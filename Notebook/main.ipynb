{
 "cells": [
  {
   "cell_type": "markdown",
   "metadata": {},
   "source": [
    "# **Time Series Regression - A Machine Learning Approach For Coporation Favorita**\n",
    "\n",
    "### Table of Contents\n",
    "1. [Business Understanding](#business-understanding)\n",
    "2. [Data collection](#Data-collection)\n",
    "3. [Data Cleaning and Preparation](#Data-Cleaning-and-Preparation)\n",
    "4. [Hypotheses](#hypotheses)\n",
    "5. [Analytical Questions](#analytical-questions)\n",
    "6. [Data Sources](#data-sources)\n",
    "7. [Process Overview](#process-overview)\n",
    "\n",
    "## **Business Understanding**\n",
    "\n",
    "Corporation Favorita, a large grocery retailer based in Ecuador, aims to optimize its inventory management to ensure the right quantity of products is always in stock across its various locations. Effective inventory management is critical for maintaining high levels of customer satisfaction and minimizing costs associated with overstocking or stockouts.\n",
    "\n",
    "To achieve this goal, we will build machine learning models to forecast the demand for products at different Favorita stores. Accurate demand forecasting will allow Corporation Favorita to make informed decisions regarding stock levels, promotions, and supply chain logistics.\n",
    "\n",
    "#### Objective:\n",
    "1. **Develop Predictive Models**: Create models to forecast daily unit sales for thousands of products across multiple stores.\n",
    "2. **Understand Influencing Factors**: Analyze the impact of various factors on sales, including promotions, holidays, oil prices, store characteristics, and external events such as earthquakes.\n",
    "3. **Optimize Inventory Management**: Use the models to inform inventory decisions, ensuring that the right products are available at the right stores at the right time.\n",
    "\n",
    "#### Hypothesis:\n",
    "1. Null Hypothesis (H0): Promotions do not have a significant impact on sales.  \n",
    "   Alternative Hypothesis (H1): Promotions have a significant impact on sales.\n",
    "2. Null Hypothesis (H0): Oil prices do not significantly impact sales.  \n",
    "   Alternative Hypothesis (H1): Oil prices significantly impact sales.\n",
    "\n",
    "#### Key Analytical Questions:\n",
    "1. **Data Completeness**: Is the training dataset complete with all required dates?\n",
    "2. **Sales Extremes**: Which dates have the lowest and highest sales for each year (excluding days when stores were closed)?\n",
    "3. **Monthly Sales Trends**: Compare sales across months and years to identify the highest sales month and year.\n",
    "4. **Earthquake Impact**: Did the earthquake in April 2016 impact sales?\n",
    "5. **Store Performance**: Are certain stores or groups of stores (cluster, city, state, type) selling more products?\n",
    "6. **Promotions, Oil Prices, and Holidays**: How are sales affected by promotions, oil prices, and holidays?\n",
    "7. **Date Features Analysis**: What insights can be derived from date-related features?\n",
    "8. **Promotion Impact**: Which product families and stores were most affected by promotions?\n",
    "9. **Error Metrics**: What is the difference between RMSLE, RMSE, and MSE? Why might MAE be greater than these metrics?\n",
    "10. **Wage Payment Influence**: Does the bi-monthly payment of public sector wages influence store sales?\n",
    "\n",
    "\n",
    "#### Data Sources\n",
    "- **train.csv**: Time series data of store, product information, promotions, and sales.\n",
    "- **test.csv**: Features similar to the training data for the 15 days following the last date in the training data.\n",
    "- **transaction.csv**: Daily transactions per store.\n",
    "- **stores.csv**: Metadata about stores including location and type.\n",
    "- **oil.csv**: Daily oil prices.\n",
    "- **holidays_events.csv**: Information about holidays and events, including special designations like transferred, bridge, and work days.\n",
    "- **sample_submission.csv**: A sample submission file for formatting predictions.\n",
    "\n",
    "\n",
    "\n",
    "\n",
    "\n",
    "# Import Necessary Packages"
   ]
  },
  {
   "cell_type": "code",
   "execution_count": 30,
   "metadata": {},
   "outputs": [],
   "source": [
    "import pyodbc\n",
    "from dotenv import dotenv_values\n",
    "import pandas as pd\n",
    "import numpy as np\n",
    "import matplotlib.pyplot as plt\n",
    "import seaborn as sns\n",
    "from itertools import product\n",
    "from scipy import stats\n",
    "from matplotlib.ticker import FuncFormatter\n",
    "from scipy.stats import ttest_ind\n",
    "import statsmodels.api as sm\n",
    "import matplotlib.ticker as ticker\n",
    "\n",
    "import warnings\n",
    "warnings.filterwarnings('ignore')\n",
    "\n",
    "# Seaborn color palette\n",
    "palette = sns.color_palette(\"tab10\")\n",
    "\n",
    "# Function to format y-axis labels in millions\n",
    "def millions(x, pos):\n",
    "    return '%1.0fM' % (x * 1e-6)"
   ]
  },
  {
   "cell_type": "code",
   "execution_count": 3,
   "metadata": {},
   "outputs": [],
   "source": [
    " #Load environment variables from .env file\n",
    "environment_variables = dotenv_values('.env')\n",
    "\n",
    "# Get the values for the credentials set in the .env file\n",
    "server = environment_variables.get(\"SERVER\")\n",
    "database = environment_variables.get(\"DATABASE\")\n",
    "username = environment_variables.get(\"USERNAME\")\n",
    "password = environment_variables.get(\"PASSWORD\")\n",
    "\n",
    "# Create a connection string\n",
    "connection_string = f\"DRIVER={{SQL Server}}; \\\n",
    "                    SERVER={server}; \\\n",
    "                    DATABASE={database}; \\\n",
    "                    UID={username}; \\\n",
    "                    PWD={password};\"\n",
    "\n",
    "# Connect to the server\n",
    "connection = pyodbc.connect(connection_string)"
   ]
  },
  {
   "cell_type": "markdown",
   "metadata": {},
   "source": [
    "# Load Data From Database"
   ]
  },
  {
   "cell_type": "code",
   "execution_count": 4,
   "metadata": {},
   "outputs": [
    {
     "data": {
      "text/html": [
       "<div>\n",
       "<style scoped>\n",
       "    .dataframe tbody tr th:only-of-type {\n",
       "        vertical-align: middle;\n",
       "    }\n",
       "\n",
       "    .dataframe tbody tr th {\n",
       "        vertical-align: top;\n",
       "    }\n",
       "\n",
       "    .dataframe thead th {\n",
       "        text-align: right;\n",
       "    }\n",
       "</style>\n",
       "<table border=\"1\" class=\"dataframe\">\n",
       "  <thead>\n",
       "    <tr style=\"text-align: right;\">\n",
       "      <th></th>\n",
       "      <th>date</th>\n",
       "      <th>dcoilwtico</th>\n",
       "    </tr>\n",
       "  </thead>\n",
       "  <tbody>\n",
       "    <tr>\n",
       "      <th>0</th>\n",
       "      <td>2013-01-01</td>\n",
       "      <td>NaN</td>\n",
       "    </tr>\n",
       "    <tr>\n",
       "      <th>1</th>\n",
       "      <td>2013-01-02</td>\n",
       "      <td>93.139999</td>\n",
       "    </tr>\n",
       "    <tr>\n",
       "      <th>2</th>\n",
       "      <td>2013-01-03</td>\n",
       "      <td>92.970001</td>\n",
       "    </tr>\n",
       "    <tr>\n",
       "      <th>3</th>\n",
       "      <td>2013-01-04</td>\n",
       "      <td>93.120003</td>\n",
       "    </tr>\n",
       "    <tr>\n",
       "      <th>4</th>\n",
       "      <td>2013-01-07</td>\n",
       "      <td>93.199997</td>\n",
       "    </tr>\n",
       "  </tbody>\n",
       "</table>\n",
       "</div>"
      ],
      "text/plain": [
       "         date  dcoilwtico\n",
       "0  2013-01-01         NaN\n",
       "1  2013-01-02   93.139999\n",
       "2  2013-01-03   92.970001\n",
       "3  2013-01-04   93.120003\n",
       "4  2013-01-07   93.199997"
      ]
     },
     "execution_count": 4,
     "metadata": {},
     "output_type": "execute_result"
    }
   ],
   "source": [
    "oil = pd.read_sql_query(\"SELECT * FROM dbo.oil\", connection)\n",
    "\n",
    "# Save the DataFrame to a CSV file\n",
    "oil.to_csv('data/oil.csv', index=False)\n",
    "\n",
    "oil.head()"
   ]
  },
  {
   "cell_type": "code",
   "execution_count": 5,
   "metadata": {},
   "outputs": [
    {
     "data": {
      "text/html": [
       "<div>\n",
       "<style scoped>\n",
       "    .dataframe tbody tr th:only-of-type {\n",
       "        vertical-align: middle;\n",
       "    }\n",
       "\n",
       "    .dataframe tbody tr th {\n",
       "        vertical-align: top;\n",
       "    }\n",
       "\n",
       "    .dataframe thead th {\n",
       "        text-align: right;\n",
       "    }\n",
       "</style>\n",
       "<table border=\"1\" class=\"dataframe\">\n",
       "  <thead>\n",
       "    <tr style=\"text-align: right;\">\n",
       "      <th></th>\n",
       "      <th>date</th>\n",
       "      <th>type</th>\n",
       "      <th>locale</th>\n",
       "      <th>locale_name</th>\n",
       "      <th>description</th>\n",
       "      <th>transferred</th>\n",
       "    </tr>\n",
       "  </thead>\n",
       "  <tbody>\n",
       "    <tr>\n",
       "      <th>0</th>\n",
       "      <td>2012-03-02</td>\n",
       "      <td>Holiday</td>\n",
       "      <td>Local</td>\n",
       "      <td>Manta</td>\n",
       "      <td>Fundacion de Manta</td>\n",
       "      <td>False</td>\n",
       "    </tr>\n",
       "    <tr>\n",
       "      <th>1</th>\n",
       "      <td>2012-04-01</td>\n",
       "      <td>Holiday</td>\n",
       "      <td>Regional</td>\n",
       "      <td>Cotopaxi</td>\n",
       "      <td>Provincializacion de Cotopaxi</td>\n",
       "      <td>False</td>\n",
       "    </tr>\n",
       "    <tr>\n",
       "      <th>2</th>\n",
       "      <td>2012-04-12</td>\n",
       "      <td>Holiday</td>\n",
       "      <td>Local</td>\n",
       "      <td>Cuenca</td>\n",
       "      <td>Fundacion de Cuenca</td>\n",
       "      <td>False</td>\n",
       "    </tr>\n",
       "    <tr>\n",
       "      <th>3</th>\n",
       "      <td>2012-04-14</td>\n",
       "      <td>Holiday</td>\n",
       "      <td>Local</td>\n",
       "      <td>Libertad</td>\n",
       "      <td>Cantonizacion de Libertad</td>\n",
       "      <td>False</td>\n",
       "    </tr>\n",
       "    <tr>\n",
       "      <th>4</th>\n",
       "      <td>2012-04-21</td>\n",
       "      <td>Holiday</td>\n",
       "      <td>Local</td>\n",
       "      <td>Riobamba</td>\n",
       "      <td>Cantonizacion de Riobamba</td>\n",
       "      <td>False</td>\n",
       "    </tr>\n",
       "  </tbody>\n",
       "</table>\n",
       "</div>"
      ],
      "text/plain": [
       "         date     type    locale locale_name                    description  \\\n",
       "0  2012-03-02  Holiday     Local       Manta             Fundacion de Manta   \n",
       "1  2012-04-01  Holiday  Regional    Cotopaxi  Provincializacion de Cotopaxi   \n",
       "2  2012-04-12  Holiday     Local      Cuenca            Fundacion de Cuenca   \n",
       "3  2012-04-14  Holiday     Local    Libertad      Cantonizacion de Libertad   \n",
       "4  2012-04-21  Holiday     Local    Riobamba      Cantonizacion de Riobamba   \n",
       "\n",
       "   transferred  \n",
       "0        False  \n",
       "1        False  \n",
       "2        False  \n",
       "3        False  \n",
       "4        False  "
      ]
     },
     "execution_count": 5,
     "metadata": {},
     "output_type": "execute_result"
    }
   ],
   "source": [
    "# Load holidays_events dataset\n",
    "holidays_events = pd.read_sql_query(\n",
    "    \"SELECT * FROM dbo.holidays_events\", connection)\n",
    "\n",
    "# Save the DataFrame to a CSV file\n",
    "holidays_events.to_csv('data/holidays_events.csv', index=False)\n",
    "\n",
    "holidays_events.head()"
   ]
  },
  {
   "cell_type": "code",
   "execution_count": 6,
   "metadata": {},
   "outputs": [
    {
     "data": {
      "text/html": [
       "<div>\n",
       "<style scoped>\n",
       "    .dataframe tbody tr th:only-of-type {\n",
       "        vertical-align: middle;\n",
       "    }\n",
       "\n",
       "    .dataframe tbody tr th {\n",
       "        vertical-align: top;\n",
       "    }\n",
       "\n",
       "    .dataframe thead th {\n",
       "        text-align: right;\n",
       "    }\n",
       "</style>\n",
       "<table border=\"1\" class=\"dataframe\">\n",
       "  <thead>\n",
       "    <tr style=\"text-align: right;\">\n",
       "      <th></th>\n",
       "      <th>store_nbr</th>\n",
       "      <th>city</th>\n",
       "      <th>state</th>\n",
       "      <th>type</th>\n",
       "      <th>cluster</th>\n",
       "    </tr>\n",
       "  </thead>\n",
       "  <tbody>\n",
       "    <tr>\n",
       "      <th>0</th>\n",
       "      <td>1</td>\n",
       "      <td>Quito</td>\n",
       "      <td>Pichincha</td>\n",
       "      <td>D</td>\n",
       "      <td>13</td>\n",
       "    </tr>\n",
       "    <tr>\n",
       "      <th>1</th>\n",
       "      <td>2</td>\n",
       "      <td>Quito</td>\n",
       "      <td>Pichincha</td>\n",
       "      <td>D</td>\n",
       "      <td>13</td>\n",
       "    </tr>\n",
       "    <tr>\n",
       "      <th>2</th>\n",
       "      <td>3</td>\n",
       "      <td>Quito</td>\n",
       "      <td>Pichincha</td>\n",
       "      <td>D</td>\n",
       "      <td>8</td>\n",
       "    </tr>\n",
       "    <tr>\n",
       "      <th>3</th>\n",
       "      <td>4</td>\n",
       "      <td>Quito</td>\n",
       "      <td>Pichincha</td>\n",
       "      <td>D</td>\n",
       "      <td>9</td>\n",
       "    </tr>\n",
       "    <tr>\n",
       "      <th>4</th>\n",
       "      <td>5</td>\n",
       "      <td>Santo Domingo</td>\n",
       "      <td>Santo Domingo de los Tsachilas</td>\n",
       "      <td>D</td>\n",
       "      <td>4</td>\n",
       "    </tr>\n",
       "  </tbody>\n",
       "</table>\n",
       "</div>"
      ],
      "text/plain": [
       "   store_nbr           city                           state type  cluster\n",
       "0          1          Quito                       Pichincha    D       13\n",
       "1          2          Quito                       Pichincha    D       13\n",
       "2          3          Quito                       Pichincha    D        8\n",
       "3          4          Quito                       Pichincha    D        9\n",
       "4          5  Santo Domingo  Santo Domingo de los Tsachilas    D        4"
      ]
     },
     "execution_count": 6,
     "metadata": {},
     "output_type": "execute_result"
    }
   ],
   "source": [
    "# Load stores dataset\n",
    "stores = pd.read_sql_query(\"SELECT * FROM dbo.stores\", connection)\n",
    "\n",
    "# Save the DataFrame to a CSV file\n",
    "stores.to_csv('data/stores.csv', index=False)\n",
    "\n",
    "stores.head()"
   ]
  },
  {
   "cell_type": "code",
   "execution_count": 7,
   "metadata": {},
   "outputs": [
    {
     "data": {
      "text/html": [
       "<div>\n",
       "<style scoped>\n",
       "    .dataframe tbody tr th:only-of-type {\n",
       "        vertical-align: middle;\n",
       "    }\n",
       "\n",
       "    .dataframe tbody tr th {\n",
       "        vertical-align: top;\n",
       "    }\n",
       "\n",
       "    .dataframe thead th {\n",
       "        text-align: right;\n",
       "    }\n",
       "</style>\n",
       "<table border=\"1\" class=\"dataframe\">\n",
       "  <thead>\n",
       "    <tr style=\"text-align: right;\">\n",
       "      <th></th>\n",
       "      <th>id</th>\n",
       "      <th>date</th>\n",
       "      <th>store_nbr</th>\n",
       "      <th>family</th>\n",
       "      <th>sales</th>\n",
       "      <th>onpromotion</th>\n",
       "    </tr>\n",
       "  </thead>\n",
       "  <tbody>\n",
       "    <tr>\n",
       "      <th>0</th>\n",
       "      <td>0</td>\n",
       "      <td>2013-01-01</td>\n",
       "      <td>1</td>\n",
       "      <td>AUTOMOTIVE</td>\n",
       "      <td>0.0</td>\n",
       "      <td>0</td>\n",
       "    </tr>\n",
       "    <tr>\n",
       "      <th>1</th>\n",
       "      <td>1</td>\n",
       "      <td>2013-01-01</td>\n",
       "      <td>1</td>\n",
       "      <td>BABY CARE</td>\n",
       "      <td>0.0</td>\n",
       "      <td>0</td>\n",
       "    </tr>\n",
       "    <tr>\n",
       "      <th>2</th>\n",
       "      <td>2</td>\n",
       "      <td>2013-01-01</td>\n",
       "      <td>1</td>\n",
       "      <td>BEAUTY</td>\n",
       "      <td>0.0</td>\n",
       "      <td>0</td>\n",
       "    </tr>\n",
       "    <tr>\n",
       "      <th>3</th>\n",
       "      <td>3</td>\n",
       "      <td>2013-01-01</td>\n",
       "      <td>1</td>\n",
       "      <td>BEVERAGES</td>\n",
       "      <td>0.0</td>\n",
       "      <td>0</td>\n",
       "    </tr>\n",
       "    <tr>\n",
       "      <th>4</th>\n",
       "      <td>4</td>\n",
       "      <td>2013-01-01</td>\n",
       "      <td>1</td>\n",
       "      <td>BOOKS</td>\n",
       "      <td>0.0</td>\n",
       "      <td>0</td>\n",
       "    </tr>\n",
       "  </tbody>\n",
       "</table>\n",
       "</div>"
      ],
      "text/plain": [
       "   id        date  store_nbr      family  sales  onpromotion\n",
       "0   0  2013-01-01          1  AUTOMOTIVE    0.0            0\n",
       "1   1  2013-01-01          1   BABY CARE    0.0            0\n",
       "2   2  2013-01-01          1      BEAUTY    0.0            0\n",
       "3   3  2013-01-01          1   BEVERAGES    0.0            0\n",
       "4   4  2013-01-01          1       BOOKS    0.0            0"
      ]
     },
     "execution_count": 7,
     "metadata": {},
     "output_type": "execute_result"
    }
   ],
   "source": [
    "train = pd.read_csv('Data/train.csv')\n",
    "\n",
    "train.head()"
   ]
  },
  {
   "cell_type": "code",
   "execution_count": 8,
   "metadata": {},
   "outputs": [
    {
     "data": {
      "text/html": [
       "<div>\n",
       "<style scoped>\n",
       "    .dataframe tbody tr th:only-of-type {\n",
       "        vertical-align: middle;\n",
       "    }\n",
       "\n",
       "    .dataframe tbody tr th {\n",
       "        vertical-align: top;\n",
       "    }\n",
       "\n",
       "    .dataframe thead th {\n",
       "        text-align: right;\n",
       "    }\n",
       "</style>\n",
       "<table border=\"1\" class=\"dataframe\">\n",
       "  <thead>\n",
       "    <tr style=\"text-align: right;\">\n",
       "      <th></th>\n",
       "      <th>id</th>\n",
       "      <th>date</th>\n",
       "      <th>store_nbr</th>\n",
       "      <th>family</th>\n",
       "      <th>onpromotion</th>\n",
       "    </tr>\n",
       "  </thead>\n",
       "  <tbody>\n",
       "    <tr>\n",
       "      <th>0</th>\n",
       "      <td>3000888</td>\n",
       "      <td>2017-08-16</td>\n",
       "      <td>1</td>\n",
       "      <td>AUTOMOTIVE</td>\n",
       "      <td>0</td>\n",
       "    </tr>\n",
       "    <tr>\n",
       "      <th>1</th>\n",
       "      <td>3000889</td>\n",
       "      <td>2017-08-16</td>\n",
       "      <td>1</td>\n",
       "      <td>BABY CARE</td>\n",
       "      <td>0</td>\n",
       "    </tr>\n",
       "    <tr>\n",
       "      <th>2</th>\n",
       "      <td>3000890</td>\n",
       "      <td>2017-08-16</td>\n",
       "      <td>1</td>\n",
       "      <td>BEAUTY</td>\n",
       "      <td>2</td>\n",
       "    </tr>\n",
       "    <tr>\n",
       "      <th>3</th>\n",
       "      <td>3000891</td>\n",
       "      <td>2017-08-16</td>\n",
       "      <td>1</td>\n",
       "      <td>BEVERAGES</td>\n",
       "      <td>20</td>\n",
       "    </tr>\n",
       "    <tr>\n",
       "      <th>4</th>\n",
       "      <td>3000892</td>\n",
       "      <td>2017-08-16</td>\n",
       "      <td>1</td>\n",
       "      <td>BOOKS</td>\n",
       "      <td>0</td>\n",
       "    </tr>\n",
       "  </tbody>\n",
       "</table>\n",
       "</div>"
      ],
      "text/plain": [
       "        id        date  store_nbr      family  onpromotion\n",
       "0  3000888  2017-08-16          1  AUTOMOTIVE            0\n",
       "1  3000889  2017-08-16          1   BABY CARE            0\n",
       "2  3000890  2017-08-16          1      BEAUTY            2\n",
       "3  3000891  2017-08-16          1   BEVERAGES           20\n",
       "4  3000892  2017-08-16          1       BOOKS            0"
      ]
     },
     "execution_count": 8,
     "metadata": {},
     "output_type": "execute_result"
    }
   ],
   "source": [
    "test = pd.read_csv('Data/test.csv')\n",
    "\n",
    "test.head()"
   ]
  },
  {
   "cell_type": "code",
   "execution_count": 9,
   "metadata": {},
   "outputs": [
    {
     "data": {
      "text/html": [
       "<div>\n",
       "<style scoped>\n",
       "    .dataframe tbody tr th:only-of-type {\n",
       "        vertical-align: middle;\n",
       "    }\n",
       "\n",
       "    .dataframe tbody tr th {\n",
       "        vertical-align: top;\n",
       "    }\n",
       "\n",
       "    .dataframe thead th {\n",
       "        text-align: right;\n",
       "    }\n",
       "</style>\n",
       "<table border=\"1\" class=\"dataframe\">\n",
       "  <thead>\n",
       "    <tr style=\"text-align: right;\">\n",
       "      <th></th>\n",
       "      <th>date</th>\n",
       "      <th>store_nbr</th>\n",
       "      <th>transactions</th>\n",
       "    </tr>\n",
       "  </thead>\n",
       "  <tbody>\n",
       "    <tr>\n",
       "      <th>0</th>\n",
       "      <td>2013-01-01</td>\n",
       "      <td>25</td>\n",
       "      <td>770</td>\n",
       "    </tr>\n",
       "    <tr>\n",
       "      <th>1</th>\n",
       "      <td>2013-01-02</td>\n",
       "      <td>1</td>\n",
       "      <td>2111</td>\n",
       "    </tr>\n",
       "    <tr>\n",
       "      <th>2</th>\n",
       "      <td>2013-01-02</td>\n",
       "      <td>2</td>\n",
       "      <td>2358</td>\n",
       "    </tr>\n",
       "    <tr>\n",
       "      <th>3</th>\n",
       "      <td>2013-01-02</td>\n",
       "      <td>3</td>\n",
       "      <td>3487</td>\n",
       "    </tr>\n",
       "    <tr>\n",
       "      <th>4</th>\n",
       "      <td>2013-01-02</td>\n",
       "      <td>4</td>\n",
       "      <td>1922</td>\n",
       "    </tr>\n",
       "  </tbody>\n",
       "</table>\n",
       "</div>"
      ],
      "text/plain": [
       "         date  store_nbr  transactions\n",
       "0  2013-01-01         25           770\n",
       "1  2013-01-02          1          2111\n",
       "2  2013-01-02          2          2358\n",
       "3  2013-01-02          3          3487\n",
       "4  2013-01-02          4          1922"
      ]
     },
     "execution_count": 9,
     "metadata": {},
     "output_type": "execute_result"
    }
   ],
   "source": [
    "transactions = pd.read_csv('Data/transactions.csv')\n",
    "\n",
    "transactions.head()"
   ]
  },
  {
   "cell_type": "code",
   "execution_count": 10,
   "metadata": {},
   "outputs": [
    {
     "data": {
      "text/html": [
       "<div>\n",
       "<style scoped>\n",
       "    .dataframe tbody tr th:only-of-type {\n",
       "        vertical-align: middle;\n",
       "    }\n",
       "\n",
       "    .dataframe tbody tr th {\n",
       "        vertical-align: top;\n",
       "    }\n",
       "\n",
       "    .dataframe thead th {\n",
       "        text-align: right;\n",
       "    }\n",
       "</style>\n",
       "<table border=\"1\" class=\"dataframe\">\n",
       "  <thead>\n",
       "    <tr style=\"text-align: right;\">\n",
       "      <th></th>\n",
       "      <th>id</th>\n",
       "      <th>sales</th>\n",
       "    </tr>\n",
       "  </thead>\n",
       "  <tbody>\n",
       "    <tr>\n",
       "      <th>0</th>\n",
       "      <td>3000888</td>\n",
       "      <td>0.0</td>\n",
       "    </tr>\n",
       "    <tr>\n",
       "      <th>1</th>\n",
       "      <td>3000889</td>\n",
       "      <td>0.0</td>\n",
       "    </tr>\n",
       "    <tr>\n",
       "      <th>2</th>\n",
       "      <td>3000890</td>\n",
       "      <td>0.0</td>\n",
       "    </tr>\n",
       "    <tr>\n",
       "      <th>3</th>\n",
       "      <td>3000891</td>\n",
       "      <td>0.0</td>\n",
       "    </tr>\n",
       "    <tr>\n",
       "      <th>4</th>\n",
       "      <td>3000892</td>\n",
       "      <td>0.0</td>\n",
       "    </tr>\n",
       "  </tbody>\n",
       "</table>\n",
       "</div>"
      ],
      "text/plain": [
       "        id  sales\n",
       "0  3000888    0.0\n",
       "1  3000889    0.0\n",
       "2  3000890    0.0\n",
       "3  3000891    0.0\n",
       "4  3000892    0.0"
      ]
     },
     "execution_count": 10,
     "metadata": {},
     "output_type": "execute_result"
    }
   ],
   "source": [
    "sample_submission = pd.read_csv('Data/sample_submission.csv')\n",
    "\n",
    "sample_submission.head()"
   ]
  },
  {
   "cell_type": "markdown",
   "metadata": {},
   "source": [
    "# **Data Preparation and Cleaning**\n",
    "\n",
    "\n",
    "1. **Handle Missing Values**"
   ]
  },
  {
   "cell_type": "code",
   "execution_count": 12,
   "metadata": {},
   "outputs": [
    {
     "data": {
      "text/plain": [
       "(id             0\n",
       " date           0\n",
       " store_nbr      0\n",
       " family         0\n",
       " sales          0\n",
       " onpromotion    0\n",
       " dtype: int64,\n",
       " id             0\n",
       " date           0\n",
       " store_nbr      0\n",
       " family         0\n",
       " onpromotion    0\n",
       " dtype: int64,\n",
       " date            0\n",
       " store_nbr       0\n",
       " transactions    0\n",
       " dtype: int64,\n",
       " store_nbr    0\n",
       " city         0\n",
       " state        0\n",
       " type         0\n",
       " cluster      0\n",
       " dtype: int64,\n",
       " date           0\n",
       " dcoilwtico    43\n",
       " dtype: int64,\n",
       " date           0\n",
       " type           0\n",
       " locale         0\n",
       " locale_name    0\n",
       " description    0\n",
       " transferred    0\n",
       " dtype: int64)"
      ]
     },
     "execution_count": 12,
     "metadata": {},
     "output_type": "execute_result"
    }
   ],
   "source": [
    "# Check for missing values in each dataset\n",
    "missing_train = train.isnull().sum()\n",
    "missing_test = test.isnull().sum()\n",
    "missing_transactions = transactions.isnull().sum()\n",
    "missing_stores = stores.isnull().sum()\n",
    "missing_oil = oil.isnull().sum()\n",
    "missing_holidays_events = holidays_events.isnull().sum()\n",
    "\n",
    "missing_train, missing_test, missing_transactions, missing_stores, missing_oil, missing_holidays_events"
   ]
  },
  {
   "cell_type": "code",
   "execution_count": 13,
   "metadata": {},
   "outputs": [
    {
     "data": {
      "text/plain": [
       "date          0\n",
       "dcoilwtico    1\n",
       "dtype: int64"
      ]
     },
     "execution_count": 13,
     "metadata": {},
     "output_type": "execute_result"
    }
   ],
   "source": [
    "# Fill missing values in the oil dataset using forward fill\n",
    "oil['dcoilwtico'].fillna(method='ffill', inplace=True)\n",
    "\n",
    "# Verify that there are no more missing values\n",
    "missing_values_oil = oil.isnull().sum()\n",
    "missing_values_oil"
   ]
  },
  {
   "cell_type": "markdown",
   "metadata": {},
   "source": [
    "2. **Correct Data Types**"
   ]
  },
  {
   "cell_type": "code",
   "execution_count": 14,
   "metadata": {},
   "outputs": [],
   "source": [
    "# Convert date columns to datetime format\n",
    "train['date'] = pd.to_datetime(train['date'])\n",
    "test['date'] = pd.to_datetime(test['date'])\n",
    "transactions['date'] = pd.to_datetime(transactions['date'])\n",
    "oil['date'] = pd.to_datetime(oil['date'])\n",
    "holidays_events['date'] = pd.to_datetime(holidays_events['date'])"
   ]
  },
  {
   "cell_type": "markdown",
   "metadata": {},
   "source": [
    "3. **Merge Datasets**\n"
   ]
  },
  {
   "cell_type": "code",
   "execution_count": 15,
   "metadata": {},
   "outputs": [],
   "source": [
    "# Merge train dataset with transactions, stores, oil, and holidays_events\n",
    "train_merged = train.merge(transactions, on=['date', 'store_nbr'], how='left')\n",
    "train_merged = train_merged.merge(stores, on='store_nbr', how='left')\n",
    "train_merged = train_merged.merge(oil, on='date', how='left')\n",
    "train_merged = train_merged.merge(holidays_events, on='date', how='left')\n",
    "\n",
    "# Repeat the same for the test dataset\n",
    "test_merged = test.merge(transactions, on=['date', 'store_nbr'], how='left')\n",
    "test_merged = test_merged.merge(stores, on='store_nbr', how='left')\n",
    "test_merged = test_merged.merge(oil, on='date', how='left')\n",
    "test_merged = test_merged.merge(holidays_events, on='date', how='left')"
   ]
  },
  {
   "cell_type": "code",
   "execution_count": 16,
   "metadata": {},
   "outputs": [],
   "source": [
    "#Necessary rename\n",
    "train_merged.rename(columns={'type_x': 'store_type','type_y': 'holiday_type'}, inplace=True)\n",
    "test_merged.rename(columns={'type_x': 'store_type','type_y': 'holiday_type'}, inplace=True)"
   ]
  },
  {
   "cell_type": "code",
   "execution_count": 17,
   "metadata": {},
   "outputs": [],
   "source": [
    "# Fill null values in transactions with 0\n",
    "train_merged['transactions'].fillna(0, inplace=True)\n",
    "test_merged['transactions'].fillna(0, inplace=True)\n",
    "\n",
    "# Forward filling and backward filling for dcoilwtico\n",
    "train_merged['dcoilwtico'].fillna(method='ffill', inplace=True)\n",
    "train_merged['dcoilwtico'].fillna(method='bfill', inplace=True)\n",
    "\n",
    "test_merged['dcoilwtico'].fillna(method='ffill', inplace=True)\n",
    "test_merged['dcoilwtico'].fillna(method='bfill', inplace=True)\n",
    "\n",
    "# Fill holiday-related columns with 'None'\n",
    "holiday_related_cols = ['holiday_type', 'locale','locale_name', 'description', 'transferred']\n",
    "train_merged[holiday_related_cols] = train_merged[holiday_related_cols].fillna('None')\n",
    "test_merged[holiday_related_cols] = test_merged[holiday_related_cols].fillna('None')"
   ]
  },
  {
   "cell_type": "markdown",
   "metadata": {},
   "source": [
    "4. **Create Date Features**"
   ]
  },
  {
   "cell_type": "code",
   "execution_count": 18,
   "metadata": {},
   "outputs": [],
   "source": [
    "# Create additional features from the date\n",
    "train_merged['year'] = train_merged['date'].dt.year\n",
    "train_merged['month'] = train_merged['date'].dt.month\n",
    "train_merged['day'] = train_merged['date'].dt.day\n",
    "train_merged['dayofweek'] = train_merged['date'].dt.dayofweek\n",
    "\n",
    "test_merged['year'] = test_merged['date'].dt.year\n",
    "test_merged['month'] = test_merged['date'].dt.month\n",
    "test_merged['day'] = test_merged['date'].dt.day\n",
    "test_merged['dayofweek'] = test_merged['date'].dt.dayofweek"
   ]
  },
  {
   "cell_type": "markdown",
   "metadata": {},
   "source": [
    "# ** Exploratory Data Analysis(EDA)**\n"
   ]
  },
  {
   "cell_type": "code",
   "execution_count": 19,
   "metadata": {},
   "outputs": [],
   "source": [
    "# # Group by date and sum sales to get the overall sales trend over time\n",
    "# sales_trend = train_merged.groupby('date')['sales'].sum().reset_index()\n",
    "\n",
    "# # Group by year and month for monthly trend\n",
    "# sales_trend['year_month'] = sales_trend['date'].dt.to_period('M')\n",
    "# monthly_sales_trend = sales_trend.groupby(\n",
    "#     'year_month')['sales'].sum().reset_index()\n",
    "\n",
    "# # Group by year for yearly trend\n",
    "# sales_trend['year'] = sales_trend['date'].dt.year\n",
    "# yearly_sales_trend = sales_trend.groupby('year')['sales'].sum().reset_index()"
   ]
  },
  {
   "cell_type": "code",
   "execution_count": null,
   "metadata": {},
   "outputs": [],
   "source": [
    "# # Plot overall sales trend\n",
    "# plt.figure(figsize=(14, 7))\n",
    "# plt.plot(sales_trend['date'], sales_trend['sales'],\n",
    "#          color=palette[0], linewidth=1, label='Daily Sales')\n",
    "# plt.title('Overall Sales Trend Over Time', fontsize=16)\n",
    "# plt.xlabel('Date', fontsize=14)\n",
    "# plt.ylabel('Total Sales', fontsize=14)\n",
    "# plt.tick_params(axis='both', which='major', labelsize=12)\n",
    "\n",
    "# # Format y-axis to avoid exponents\n",
    "# plt.gca().get_yaxis().get_major_formatter().set_scientific(False)\n",
    "\n",
    "# # Add a trend line for better visualization\n",
    "# z = np.polyfit(sales_trend['date'].apply(lambda x: x.toordinal()), sales_trend['sales'], 1)\n",
    "# p = np.poly1d(z)\n",
    "# plt.plot(sales_trend['date'], p(sales_trend['date'].apply(lambda x: x.toordinal())), \n",
    "#          color=palette[1], linestyle='--', linewidth=2, label='Trend Line')\n",
    "\n",
    "# plt.legend()\n",
    "# plt.show()"
   ]
  },
  {
   "cell_type": "code",
   "execution_count": 20,
   "metadata": {},
   "outputs": [],
   "source": [
    "# # Plot yearly sales trend\n",
    "# plt.figure(figsize=(14, 7))\n",
    "# plt.plot(yearly_sales_trend['year'], yearly_sales_trend['sales'],\n",
    "#          color=palette[0], linewidth=2, label='Yearly Sales')\n",
    "# plt.title('Yearly Sales Trend', fontsize=16)\n",
    "# plt.xlabel('Year', fontsize=14)\n",
    "# plt.ylabel('Total Sales', fontsize=14)\n",
    "# plt.tick_params(axis='both', which='major', labelsize=12)\n",
    "\n",
    "# plt.gca().get_yaxis().set_major_formatter(FuncFormatter(millions))\n",
    "\n",
    "# plt.legend()\n",
    "# plt.show()"
   ]
  },
  {
   "cell_type": "markdown",
   "metadata": {},
   "source": [
    "** Sales Distribution Across Stores and Product Families**"
   ]
  },
  {
   "cell_type": "code",
   "execution_count": 21,
   "metadata": {},
   "outputs": [],
   "source": [
    "# # Aggregate sales by store and product family\n",
    "# store_sales = train_merged.groupby('store_nbr')['sales'].sum(\n",
    "# ).sort_values(ascending=False).reset_index()\n",
    "# family_sales = train_merged.groupby(\n",
    "#     'family')['sales'].sum().sort_values(ascending=False).reset_index()\n",
    "\n",
    "# # Plot sales distribution across stores\n",
    "# plt.figure(figsize=(14, 7))\n",
    "# plt.bar(store_sales['store_nbr'], store_sales['sales'])\n",
    "# plt.xlabel('Store Number')\n",
    "# plt.ylabel('Total Sales')\n",
    "# plt.title('Sales Distribution Across Stores')\n",
    "# plt.show()"
   ]
  },
  {
   "cell_type": "code",
   "execution_count": 22,
   "metadata": {},
   "outputs": [],
   "source": [
    "# # Plot sales distribution across product families\n",
    "# plt.figure(figsize=(14, 7))\n",
    "# plt.barh(family_sales['family'], family_sales['sales'])\n",
    "# plt.xlabel('Total Sales')\n",
    "# plt.ylabel('Product Family')\n",
    "# plt.title('Sales Distribution Across Product Families')\n",
    "# plt.show()"
   ]
  },
  {
   "cell_type": "markdown",
   "metadata": {},
   "source": [
    "**Impact Of Promotions**"
   ]
  },
  {
   "cell_type": "code",
   "execution_count": 23,
   "metadata": {},
   "outputs": [],
   "source": [
    "# # Aggregate sales by promotion status\n",
    "# promotion_sales = train_merged.groupby(\n",
    "#     'onpromotion')['sales'].sum().reset_index()\n",
    "\n",
    "# # Plot impact of promotions on sales\n",
    "# plt.figure(figsize=(10, 6))\n",
    "# plt.bar(promotion_sales['onpromotion'],\n",
    "#         promotion_sales['sales'], color=['blue', 'orange'])\n",
    "# plt.xlabel('On Promotion')\n",
    "# plt.ylabel('Total Sales')\n",
    "# plt.title('Impact of Promotions on Sales')\n",
    "# plt.xticks([0, 1], ['No', 'Yes'])\n",
    "# plt.show()"
   ]
  },
  {
   "cell_type": "markdown",
   "metadata": {},
   "source": [
    "**Impact of Oil Prices**"
   ]
  },
  {
   "cell_type": "code",
   "execution_count": 24,
   "metadata": {},
   "outputs": [],
   "source": [
    "# # Plot sales versus oil prices\n",
    "# plt.figure(figsize=(14, 7))\n",
    "# plt.plot(train_merged['date'], train_merged['sales'], label='Sales')\n",
    "# plt.plot(train_merged['date'], train_merged['dcoilwtico'],\n",
    "#          label='Oil Price', color='orange')\n",
    "# plt.xlabel('Date')\n",
    "# plt.ylabel('Value')\n",
    "# plt.title('Sales vs Oil Prices')\n",
    "# plt.legend()\n",
    "# plt.show()"
   ]
  },
  {
   "cell_type": "markdown",
   "metadata": {},
   "source": [
    "**Impact of Holidays**"
   ]
  },
  {
   "cell_type": "code",
   "execution_count": 25,
   "metadata": {},
   "outputs": [],
   "source": [
    "# # Aggregate sales by holiday status\n",
    "# holiday_sales = train_merged.groupby(\n",
    "#     'holiday_type')['sales'].sum().reset_index()\n",
    "\n",
    "# # Plot impact of holidays on sales\n",
    "# plt.figure(figsize=(14, 7))\n",
    "# plt.bar(holiday_sales['holiday_type'], holiday_sales['sales'], color='green')\n",
    "# plt.xlabel('Holiday Type')\n",
    "# plt.ylabel('Total Sales')\n",
    "# plt.title('Impact of Holidays on Sales')\n",
    "# plt.xticks(rotation=45)\n",
    "# plt.show()"
   ]
  },
  {
   "cell_type": "markdown",
   "metadata": {},
   "source": [
    "# **Hypothesis Testing**\n",
    "\n",
    "**Null Hypothesis(HOa)** : Promotions do not have a significant impact on sales.\n",
    "\n",
    "**Alternative Hypothesis(H1a)** : Promotions have a significant impact on sales."
   ]
  },
  {
   "cell_type": "code",
   "execution_count": 26,
   "metadata": {},
   "outputs": [
    {
     "name": "stdout",
     "output_type": "stream",
     "text": [
      "Promotional Sales - Mean: 1137.6937303133943, Std: 1928.5887066373123\n",
      "Non-Promotional Sales - Mean: 158.2466813936427, Std: 614.8944509454778\n"
     ]
    }
   ],
   "source": [
    "# Split data into promotional and non-promotional periods\n",
    "promotional_sales = train[train['onpromotion'] > 0]['sales']\n",
    "non_promotional_sales = train[train['onpromotion'] == 0]['sales']\n",
    "\n",
    "# Calculate descriptive statistics\n",
    "promotional_mean = promotional_sales.mean()\n",
    "non_promotional_mean = non_promotional_sales.mean()\n",
    "promotional_std = promotional_sales.std()\n",
    "non_promotional_std = non_promotional_sales.std()\n",
    "\n",
    "print(f\"Promotional Sales - Mean: {promotional_mean}, Std: {promotional_std}\")\n",
    "print(f\"Non-Promotional Sales - Mean: {non_promotional_mean}, Std: {non_promotional_std}\")\n"
   ]
  },
  {
   "cell_type": "code",
   "execution_count": 27,
   "metadata": {},
   "outputs": [
    {
     "name": "stdout",
     "output_type": "stream",
     "text": [
      "T-Statistic: 664.1236909096903, P-Value: 0.0\n",
      "We Reject the null hypothesis (H0a). Promotions have a significant impact on sales.\n"
     ]
    }
   ],
   "source": [
    "# Perform t-test\n",
    "t_stat, p_value = ttest_ind(promotional_sales, non_promotional_sales)\n",
    "\n",
    "print(f\"T-Statistic: {t_stat}, P-Value: {p_value}\")\n",
    "\n",
    "# Interpret the results\n",
    "alpha = 0.05\n",
    "if p_value < alpha:\n",
    "    print(\"We Reject the null hypothesis (H0a). Promotions have a significant impact on sales.\")\n",
    "else:\n",
    "    print(\"Fail to reject the null hypothesis (H0a). Promotions do not have a significant impact on sales.\")"
   ]
  },
  {
   "cell_type": "markdown",
   "metadata": {},
   "source": [
    "**Null Hypothesis(HOb)** : Oil prices do not significantly impact sales.\n",
    "\n",
    "**Alternative Hypothesis(H1b)** : Oil prices significantly impact Sales."
   ]
  },
  {
   "cell_type": "code",
   "execution_count": 28,
   "metadata": {},
   "outputs": [
    {
     "name": "stdout",
     "output_type": "stream",
     "text": [
      "Correlation between sales and oil prices: -0.07542992345237809\n"
     ]
    }
   ],
   "source": [
    "# Remove rows with missing oil prices\n",
    "oil_merged_data = train_merged.dropna(subset=['dcoilwtico'])\n",
    "\n",
    "# Perform correlation analysis\n",
    "correlation = oil_merged_data['sales'].corr(oil_merged_data['dcoilwtico'])\n",
    "print(f\"Correlation between sales and oil prices: {correlation}\")"
   ]
  },
  {
   "cell_type": "code",
   "execution_count": 31,
   "metadata": {},
   "outputs": [
    {
     "name": "stdout",
     "output_type": "stream",
     "text": [
      "                            OLS Regression Results                            \n",
      "==============================================================================\n",
      "Dep. Variable:                  sales   R-squared:                       0.006\n",
      "Model:                            OLS   Adj. R-squared:                  0.006\n",
      "Method:                 Least Squares   F-statistic:                 1.748e+04\n",
      "Date:                Sat, 03 Aug 2024   Prob (F-statistic):               0.00\n",
      "Time:                        22:03:21   Log-Likelihood:            -2.5735e+07\n",
      "No. Observations:             3054348   AIC:                         5.147e+07\n",
      "Df Residuals:                 3054346   BIC:                         5.147e+07\n",
      "Df Model:                           1                                         \n",
      "Covariance Type:            nonrobust                                         \n",
      "==============================================================================\n",
      "                 coef    std err          t      P>|t|      [0.025      0.975]\n",
      "------------------------------------------------------------------------------\n",
      "const        579.8744      1.786    324.672      0.000     576.374     583.375\n",
      "dcoilwtico    -3.2545      0.025   -132.203      0.000      -3.303      -3.206\n",
      "==============================================================================\n",
      "Omnibus:                  4181597.532   Durbin-Watson:                   2.005\n",
      "Prob(Omnibus):                  0.000   Jarque-Bera (JB):       3529592884.706\n",
      "Skew:                           7.486   Prob(JB):                         0.00\n",
      "Kurtosis:                     168.862   Cond. No.                         205.\n",
      "==============================================================================\n",
      "\n",
      "Notes:\n",
      "[1] Standard Errors assume that the covariance matrix of the errors is correctly specified.\n"
     ]
    }
   ],
   "source": [
    "# Perform linear regression analysis\n",
    "X = oil_merged_data['dcoilwtico']\n",
    "y = oil_merged_data['sales']\n",
    "X = sm.add_constant(X)  # Adds a constant term to the predictor\n",
    "\n",
    "model = sm.OLS(y, X).fit()\n",
    "summary = model.summary()\n",
    "print(summary)"
   ]
  },
  {
   "cell_type": "code",
   "execution_count": 32,
   "metadata": {},
   "outputs": [
    {
     "name": "stdout",
     "output_type": "stream",
     "text": [
      "P-Value for oil prices: 0.0\n",
      "Reject the null hypothesis (H0b). Oil prices significantly impact sales.\n"
     ]
    }
   ],
   "source": [
    "# Extract the p-value for the oil price coefficient\n",
    "p_value = model.pvalues['dcoilwtico']\n",
    "print(f\"P-Value for oil prices: {p_value}\")\n",
    "\n",
    "# Interpret the results\n",
    "alpha = 0.05\n",
    "if p_value < alpha:\n",
    "    print(\"Reject the null hypothesis (H0b). Oil prices significantly impact sales.\")\n",
    "else:\n",
    "    print(\"Fail to reject the null hypothesis (H0b). Oil prices do not significantly impact sales.\")"
   ]
  }
 ],
 "metadata": {
  "kernelspec": {
   "display_name": "Python 3 (ipykernel)",
   "language": "python",
   "name": "python3"
  },
  "language_info": {
   "codemirror_mode": {
    "name": "ipython",
    "version": 3
   },
   "file_extension": ".py",
   "mimetype": "text/x-python",
   "name": "python",
   "nbconvert_exporter": "python",
   "pygments_lexer": "ipython3",
   "version": "3.10.9"
  }
 },
 "nbformat": 4,
 "nbformat_minor": 2
}
